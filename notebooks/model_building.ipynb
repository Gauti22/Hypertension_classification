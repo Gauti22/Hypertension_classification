{
 "cells": [
  {
   "cell_type": "code",
   "execution_count": 38,
   "metadata": {},
   "outputs": [],
   "source": [
    "\n",
    "import pandas as pd\n",
    "import numpy as np\n",
    "from sklearn.model_selection import train_test_split\n",
    "import os\n",
    "import seaborn as sns\n",
    "import matplotlib.pyplot as plt\n",
    "from sklearn.tree import DecisionTreeClassifier\n",
    "from sklearn.linear_model import LogisticRegression\n",
    "from sklearn.neighbors import KNeighborsClassifier\n",
    "from sklearn.ensemble import RandomForestClassifier\n",
    "from sklearn.metrics import accuracy_score, precision_score , recall_score , confusion_matrix\n",
    "import mlflow\n",
    "import mlflow.sklearn\n",
    "from mlflow.models.signature import infer_signature\n",
    "import yaml"
   ]
  },
  {
   "cell_type": "code",
   "execution_count": 33,
   "metadata": {},
   "outputs": [],
   "source": [
    "X=pd.read_csv('/Users/gautammehta/Desktop/smal_project/data/EDA/X_EDA')\n",
    "y=pd.read_csv('/Users/gautammehta/Desktop/smal_project/data/EDA/y_EDA')\n",
    "X_test=pd.read_csv('/Users/gautammehta/Desktop/smal_project/data/EDA/X_EDA1')\n",
    "y_test=pd.read_csv('/Users/gautammehta/Desktop/smal_project/data/EDA/y_EDA1')"
   ]
  },
  {
   "cell_type": "code",
   "execution_count": 34,
   "metadata": {},
   "outputs": [
    {
     "name": "stderr",
     "output_type": "stream",
     "text": [
      "/Users/gautammehta/Desktop/smal_project/.hello/lib/python3.13/site-packages/mlflow/types/utils.py:452: UserWarning: Hint: Inferred schema contains integer column(s). Integer columns in Python cannot represent missing values. If your input data contains missing values at inference time, it will be encoded as floats and will cause a schema enforcement error. The best way to avoid this problem is to infer the model schema based on a realistic data sample (training dataset) that includes missing values. Alternatively, you can declare integer columns as doubles (float64) whenever these columns may have missing values. See `Handling Integers With Missing Values <https://www.mlflow.org/docs/latest/models.html#handling-integers-with-missing-values>`_ for more details.\n",
      "  warnings.warn(\n",
      "/Users/gautammehta/Desktop/smal_project/.hello/lib/python3.13/site-packages/sklearn/utils/validation.py:1406: DataConversionWarning: A column-vector y was passed when a 1d array was expected. Please change the shape of y to (n_samples, ), for example using ravel().\n",
      "  y = column_or_1d(y, warn=True)\n",
      "2025/07/27 13:06:40 WARNING mlflow.models.model: `artifact_path` is deprecated. Please use `name` instead.\n"
     ]
    },
    {
     "name": "stdout",
     "output_type": "stream",
     "text": [
      "🏃 View run worried-croc-557 at: http://127.0.0.1:5000/#/experiments/838625450561157984/runs/eaf5de862c92486b9b0214664db25bbd\n",
      "🧪 View experiment at: http://127.0.0.1:5000/#/experiments/838625450561157984\n"
     ]
    }
   ],
   "source": [
    "mlflow.set_tracking_uri('http://127.0.0.1:5000')\n",
    "mlflow.set_experiment('Logistic_regression')\n",
    "\n",
    "with mlflow.start_run():\n",
    "    signature = infer_signature(X_test, y_test)\n",
    "    lr=LogisticRegression()\n",
    "    lr.fit(X,y)\n",
    "    y_pred=lr.predict(X_test)\n",
    "    confusion_matrix(y_test,y_pred)\n",
    "    accuracy=accuracy_score(y_test,y_pred)\n",
    "    precision=precision_score(y_test,y_pred)\n",
    "    recall=recall_score(y_test,y_pred)\n",
    "\n",
    "    mlflow.log_metric('accuracy',accuracy)\n",
    "    mlflow.log_metric('precision',precision)\n",
    "    mlflow.log_metric('recall',recall)\n",
    "    mlflow.sklearn.log_model(lr, \"logistic_model\",signature=signature)\n",
    "\n",
    "\n",
    "    mlflow.set_tag('author','gautam')\n",
    "    mlflow.set_tag('model_type','Logistic_reg')"
   ]
  },
  {
   "cell_type": "code",
   "execution_count": 37,
   "metadata": {},
   "outputs": [
    {
     "name": "stderr",
     "output_type": "stream",
     "text": [
      "/Users/gautammehta/Desktop/smal_project/.hello/lib/python3.13/site-packages/mlflow/types/utils.py:452: UserWarning: Hint: Inferred schema contains integer column(s). Integer columns in Python cannot represent missing values. If your input data contains missing values at inference time, it will be encoded as floats and will cause a schema enforcement error. The best way to avoid this problem is to infer the model schema based on a realistic data sample (training dataset) that includes missing values. Alternatively, you can declare integer columns as doubles (float64) whenever these columns may have missing values. See `Handling Integers With Missing Values <https://www.mlflow.org/docs/latest/models.html#handling-integers-with-missing-values>`_ for more details.\n",
      "  warnings.warn(\n",
      "/Users/gautammehta/Desktop/smal_project/.hello/lib/python3.13/site-packages/sklearn/neighbors/_classification.py:239: DataConversionWarning: A column-vector y was passed when a 1d array was expected. Please change the shape of y to (n_samples,), for example using ravel().\n",
      "  return self._fit(X, y)\n",
      "2025/07/27 13:22:39 WARNING mlflow.models.model: `artifact_path` is deprecated. Please use `name` instead.\n"
     ]
    },
    {
     "name": "stdout",
     "output_type": "stream",
     "text": [
      "🏃 View run bouncy-hawk-720 at: http://127.0.0.1:5000/#/experiments/561346479403432462/runs/b15cfb316133431db8f93e8deff91617\n",
      "🧪 View experiment at: http://127.0.0.1:5000/#/experiments/561346479403432462\n"
     ]
    }
   ],
   "source": [
    "mlflow.set_experiment('K_nearest_neighbour')\n",
    "\n",
    "with mlflow.start_run():\n",
    "    signature = infer_signature(X_test, y_test)\n",
    "    Kn=KNeighborsClassifier(n_neighbors=10)\n",
    "    Kn.fit(X,y)\n",
    "    y_pred=Kn.predict(X_test)\n",
    "    confusion_matrix(y_test,y_pred)\n",
    "    accuracy=accuracy_score(y_test,y_pred)\n",
    "    precision=precision_score(y_test,y_pred)\n",
    "    recall=recall_score(y_test,y_pred)\n",
    "\n",
    "    mlflow.log_metric('accuracy',accuracy)\n",
    "    mlflow.log_metric('precision',precision)\n",
    "    mlflow.log_metric('recall',recall)\n",
    "    mlflow.sklearn.log_model(Kn, \"K_nearest_neighbour\",signature=signature)\n",
    "\n",
    "\n",
    "    mlflow.set_tag('author','gautam')\n",
    "    mlflow.set_tag('model_type','K_nearest_neighbour')"
   ]
  }
 ],
 "metadata": {
  "kernelspec": {
   "display_name": ".hello",
   "language": "python",
   "name": "python3"
  },
  "language_info": {
   "codemirror_mode": {
    "name": "ipython",
    "version": 3
   },
   "file_extension": ".py",
   "mimetype": "text/x-python",
   "name": "python",
   "nbconvert_exporter": "python",
   "pygments_lexer": "ipython3",
   "version": "3.13.5"
  }
 },
 "nbformat": 4,
 "nbformat_minor": 2
}
